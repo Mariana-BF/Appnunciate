{
  "nbformat": 4,
  "nbformat_minor": 0,
  "metadata": {
    "colab": {
      "provenance": [],
      "include_colab_link": true
    },
    "kernelspec": {
      "name": "python3",
      "display_name": "Python 3"
    },
    "language_info": {
      "name": "python"
    }
  },
  "cells": [
    {
      "cell_type": "markdown",
      "metadata": {
        "id": "view-in-github",
        "colab_type": "text"
      },
      "source": [
        "<a href=\"https://colab.research.google.com/github/Mariana-BF/Appnunciate/blob/master/Sorted.ipynb\" target=\"_parent\"><img src=\"https://colab.research.google.com/assets/colab-badge.svg\" alt=\"Open In Colab\"/></a>"
      ]
    },
    {
      "cell_type": "markdown",
      "source": [
        "# Install modules\n"
      ],
      "metadata": {
        "id": "SQtzAcree9ce"
      }
    },
    {
      "cell_type": "code",
      "source": [
        "!pip install cfdiclient\n",
        "!pip install reportlab"
      ],
      "metadata": {
        "id": "0bozeWvdbruP"
      },
      "execution_count": null,
      "outputs": []
    },
    {
      "cell_type": "code",
      "source": [
        "%cd '/content/drive/MyDrive/Sorted_TANDEM'\n"
      ],
      "metadata": {
        "colab": {
          "base_uri": "https://localhost:8080/"
        },
        "id": "npnxNhxFkbI3",
        "outputId": "22cf3419-283b-4955-f29e-a3d7a529d413"
      },
      "execution_count": null,
      "outputs": [
        {
          "output_type": "stream",
          "name": "stdout",
          "text": [
            "[Errno 2] No such file or directory: '/content/drive/MyDrive/Sorted_TANDEM'\n",
            "/content\n"
          ]
        }
      ]
    },
    {
      "cell_type": "code",
      "source": [
        "from google.colab import drive\n",
        "drive.mount('/content/drive')"
      ],
      "metadata": {
        "colab": {
          "base_uri": "https://localhost:8080/"
        },
        "id": "jCiRULR8mDXo",
        "outputId": "b7947b29-6e95-45b3-b630-9040f1439beb"
      },
      "execution_count": 38,
      "outputs": [
        {
          "output_type": "stream",
          "name": "stdout",
          "text": [
            "Drive already mounted at /content/drive; to attempt to forcibly remount, call drive.mount(\"/content/drive\", force_remount=True).\n"
          ]
        }
      ]
    },
    {
      "cell_type": "markdown",
      "source": [
        "# Import classes"
      ],
      "metadata": {
        "id": "4qStHHNufDeO"
      }
    },
    {
      "cell_type": "code",
      "execution_count": null,
      "metadata": {
        "id": "Hq1ASb-sU0lq",
        "outputId": "304f0a16-8629-4346-dc4d-b471d3dd441a",
        "colab": {
          "base_uri": "https://localhost:8080/",
          "height": 373
        }
      },
      "outputs": [
        {
          "output_type": "error",
          "ename": "ModuleNotFoundError",
          "evalue": "ignored",
          "traceback": [
            "\u001b[0;31m---------------------------------------------------------------------------\u001b[0m",
            "\u001b[0;31mModuleNotFoundError\u001b[0m                       Traceback (most recent call last)",
            "\u001b[0;32m<ipython-input-4-d116028ffa19>\u001b[0m in \u001b[0;36m<cell line: 2>\u001b[0;34m()\u001b[0m\n\u001b[1;32m      1\u001b[0m \u001b[0;32mimport\u001b[0m \u001b[0mos\u001b[0m\u001b[0;34m\u001b[0m\u001b[0;34m\u001b[0m\u001b[0m\n\u001b[0;32m----> 2\u001b[0;31m \u001b[0;32mfrom\u001b[0m \u001b[0mcfdi_sorter\u001b[0m \u001b[0;32mimport\u001b[0m \u001b[0mcfdi_sorter\u001b[0m\u001b[0;34m\u001b[0m\u001b[0;34m\u001b[0m\u001b[0m\n\u001b[0m\u001b[1;32m      3\u001b[0m \u001b[0;32mfrom\u001b[0m \u001b[0mxlsx_report\u001b[0m    \u001b[0;32mimport\u001b[0m \u001b[0mxlsx_general_report\u001b[0m\u001b[0;34m\u001b[0m\u001b[0;34m\u001b[0m\u001b[0m\n\u001b[1;32m      4\u001b[0m \u001b[0;32mfrom\u001b[0m \u001b[0mpdf_report\u001b[0m     \u001b[0;32mimport\u001b[0m \u001b[0mgenerate_pdf\u001b[0m\u001b[0;34m\u001b[0m\u001b[0;34m\u001b[0m\u001b[0m\n\u001b[1;32m      5\u001b[0m \u001b[0;32mfrom\u001b[0m \u001b[0mcfdi_to_xlsx\u001b[0m   \u001b[0;32mimport\u001b[0m \u001b[0mdict_to_xlsx\u001b[0m\u001b[0;34m\u001b[0m\u001b[0;34m\u001b[0m\u001b[0m\n",
            "\u001b[0;31mModuleNotFoundError\u001b[0m: No module named 'cfdi_sorter'",
            "",
            "\u001b[0;31m---------------------------------------------------------------------------\u001b[0;32m\nNOTE: If your import is failing due to a missing package, you can\nmanually install dependencies using either !pip or !apt.\n\nTo view examples of installing some common dependencies, click the\n\"Open Examples\" button below.\n\u001b[0;31m---------------------------------------------------------------------------\u001b[0m\n"
          ],
          "errorDetails": {
            "actions": [
              {
                "action": "open_url",
                "actionText": "Open Examples",
                "url": "/notebooks/snippets/importing_libraries.ipynb"
              }
            ]
          }
        }
      ],
      "source": [
        "import os\n",
        "from cfdi_sorter import cfdi_sorter\n",
        "from xlsx_report    import xlsx_general_report\n",
        "from pdf_report     import generate_pdf\n",
        "from cfdi_to_xlsx   import dict_to_xlsx"
      ]
    },
    {
      "cell_type": "markdown",
      "source": [
        "# Menú"
      ],
      "metadata": {
        "id": "YxpSqHg0fKLC"
      }
    },
    {
      "cell_type": "code",
      "source": [
        "# Function to clear the console screen\n",
        "def clear():\n",
        "    os.system('cls' if os.name == 'nt' else 'clear')\n",
        "\n",
        "def select_type_report(rfc):\n",
        "\n",
        "    options = {'1': 'AYUDAS', '2': 'INGRESO', '3': 'NOMINA',\n",
        "               '4': 'PAGO_E', '5': 'DES_BON_DEV', '6': 'GASTO', '7': 'PAGO_R'}\n",
        "\n",
        "    while True:\n",
        "        clear()\n",
        "        print(\"Menu [3] Select a type report:\")\n",
        "        print('Select an option:')\n",
        "        print('1. report in excel for receipt type help')\n",
        "        print('2. report in excel for receipt type income')\n",
        "        print('3. report in excel for receipt type payroll')\n",
        "        print('4. report in excel for receipt type issuer/pay')\n",
        "        print('5. report in excel for receipt type discounts bonuses returns')\n",
        "        print('6. report in excel for receipt type expense')\n",
        "        print('7. report in excel for receipt type receiver/pay')\n",
        "        print('8. report in excel to receive all types')\n",
        "        print('9. Return to previous menu')\n",
        "\n",
        "        opcion = input(\"\\nSelect an option: \")\n",
        "\n",
        "        if options.get(opcion):\n",
        "            dict_to_xlsx(f'{options.get(opcion)}', rfc)\n",
        "            input(\"Press Enter to return to the main menu...\")\n",
        "        elif opcion == '8':\n",
        "            xlsx_general_report(rfc)\n",
        "            input(\"Press Enter to return to the main menu...\")\n",
        "        elif opcion == '9':\n",
        "            #\n",
        "            input(\"Press Enter to return to the main menu...\")\n",
        "            break\n",
        "        else:\n",
        "            input('Invalid option. Press Enter to try again...')\n",
        "            # Function to display the municipalities menu\n",
        "def select_municipality():\n",
        "    while True:\n",
        "        clear()\n",
        "        print(\"Menu [1] Select a municipality:\")\n",
        "        print(\"1. MAP: MAP850101324\")\n",
        "        print(\"2. MCM: MCM8501012U0\")\n",
        "        print(\"3. MHS: MHS850101F67\")\n",
        "        print(\"4. MOP: MOP850101NX1\")\n",
        "        print(\"5. MTR: MTR93032155L8\")\n",
        "        print(\"0. Exit\")\n",
        "        opcion = input(\"\\nSelect an option: \")\n",
        "        if   opcion == '1':\n",
        "            select_algorithm('MAP850101324')\n",
        "        elif opcion == '2':\n",
        "            select_algorithm('MCM8501012U0')\n",
        "        elif opcion == '3':\n",
        "            select_algorithm('MHS850101F67')\n",
        "        elif opcion == '4':\n",
        "            select_algorithm('MOP850101NX1')\n",
        "        elif opcion == '5':\n",
        "            select_algorithm('MTR9302155L8')\n",
        "        elif opcion == '0':\n",
        "            break\n",
        "        else:\n",
        "            input('Invalid option. Press Enter to try again...')\n",
        "\n",
        "# Function to show algorithms menu\n",
        "def select_algorithm(rfc):\n",
        "    while True:\n",
        "        clear()\n",
        "        print(f\"{rfc} Menu [2] Select:\")\n",
        "        print(\"1. Sort the xml by type of receipt and methot of payment\")\n",
        "        print(\"2. Create report Excel (xlsx)\")\n",
        "        print(\"3. Create files pdf (xml to pdf)\")\n",
        "        print(\"4. Return to previous menu\")\n",
        "\n",
        "        opcion = input(\"\\nSelect an option: \")\n",
        "\n",
        "        if opcion == '1':\n",
        "            print(f\"{rfc} : Sort the xml by type of receipt and methot of payment in progress\")\n",
        "            cfdi_sorter(rfc, f'Clientes/{rfc[0:3]}/')\n",
        "            input(\"Press Enter to return to the main menu...\")\n",
        "            break\n",
        "        elif opcion == '2':\n",
        "            print(f\"{rfc}: Create report Excel (xlsx)\")\n",
        "            select_type_report(rfc)\n",
        "            break\n",
        "        elif opcion == '3':\n",
        "            print(f\"{rfc} Create files pdf (xml to pdf)\")\n",
        "            generate_pdf(rfc)\n",
        "            input(\"Press Enter to return to the main menu...\")\n",
        "            break\n",
        "        elif opcion == '4':\n",
        "            break\n",
        "        else:\n",
        "            input('Invalid option. Press Enter to try again...')\n",
        "  # Main script code\n",
        "if __name__ == '__main__':\n",
        "    # Code that is executed when the script is called directly\n",
        "    select_municipality()\n",
        "    pass"
      ],
      "metadata": {
        "colab": {
          "base_uri": "https://localhost:8080/"
        },
        "id": "lVAPwQ4md2sm",
        "outputId": "4759d2ec-3562-4830-deda-70ab0100feaf"
      },
      "execution_count": null,
      "outputs": [
        {
          "name": "stdout",
          "output_type": "stream",
          "text": [
            "Menu [1] Select a municipality:\n",
            "1. MAP: MAP850101324\n",
            "2. MCM: MCM8501012U0\n",
            "3. MHS: MHS850101F67\n",
            "4. MOP: MOP850101NX1\n",
            "5. MTR: MTR93032155L8\n",
            "0. Exit\n",
            "\n",
            "Select an option: 0\n"
          ]
        }
      ]
    }
  ]
}